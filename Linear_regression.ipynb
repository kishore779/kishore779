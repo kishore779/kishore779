{
  "nbformat": 4,
  "nbformat_minor": 0,
  "metadata": {
    "colab": {
      "provenance": [],
      "authorship_tag": "ABX9TyOz1VKZvMyjoqtR7Qm7bxFs",
      "include_colab_link": true
    },
    "kernelspec": {
      "name": "python3",
      "display_name": "Python 3"
    },
    "language_info": {
      "name": "python"
    }
  },
  "cells": [
    {
      "cell_type": "markdown",
      "metadata": {
        "id": "view-in-github",
        "colab_type": "text"
      },
      "source": [
        "<a href=\"https://colab.research.google.com/github/kishore779/kishore779/blob/main/Linear_regression.ipynb\" target=\"_parent\"><img src=\"https://colab.research.google.com/assets/colab-badge.svg\" alt=\"Open In Colab\"/></a>"
      ]
    },
    {
      "cell_type": "code",
      "execution_count": null,
      "metadata": {
        "id": "YPNzOzm-gTL-"
      },
      "outputs": [],
      "source": [
        "import pandas as pd\n",
        "import matplotlib.pyplot as plt"
      ]
    },
    {
      "cell_type": "code",
      "source": [
        "data=pd.read_csv(\"/content/score.csv\")\n",
        "print(data.head())"
      ],
      "metadata": {
        "colab": {
          "base_uri": "https://localhost:8080/"
        },
        "id": "UVxI5Cq7iO8Q",
        "outputId": "ebeed030-a1ff-440a-f71c-60dbad505a0e"
      },
      "execution_count": null,
      "outputs": [
        {
          "output_type": "stream",
          "name": "stdout",
          "text": [
            "   Hours  Scores\n",
            "0    2.5      21\n",
            "1    5.1      47\n",
            "2    3.2      27\n",
            "3    8.5      75\n",
            "4    3.5      30\n"
          ]
        }
      ]
    },
    {
      "cell_type": "code",
      "source": [
        "def loss_function(m,b,points):\n",
        "  total_error=0\n",
        "  for i in range(len(points)):\n",
        "    x = points.iloc[i].Hours\n",
        "    y = points.iloc[i].Scores\n",
        "    total_error += (y - (m * x + b)) ** 2\n",
        "  total_error /float(len(points))\n"
      ],
      "metadata": {
        "id": "St20m1JLi0fh"
      },
      "execution_count": null,
      "outputs": []
    },
    {
      "cell_type": "code",
      "source": [
        "def gradient_descent(m_now, b_now, points, L):\n",
        "  m_gradient = 0\n",
        "  b_gradient = 0\n",
        "  n = len(points)\n",
        "\n",
        "  for i in range(n):\n",
        "    x = points.iloc[i].Hours\n",
        "    y = points.iloc[i].Scores\n",
        "\n",
        "    m_gradient += -(2/n) * x * (y- (m_now * x + b_now))\n",
        "    b_gradient += -(2/n) * (y -(m_now * x + b_now))\n",
        "\n",
        "  m = m_now - m_gradient * L\n",
        "  b = b_now - b_gradient * L\n",
        "\n",
        "  return m,b"
      ],
      "metadata": {
        "id": "LXwufFyLjlye"
      },
      "execution_count": null,
      "outputs": []
    },
    {
      "cell_type": "code",
      "source": [
        "m=0\n",
        "b=0\n",
        "L=0.0001\n",
        "epochs = 1000\n",
        "\n",
        "for i in range(epochs):\n",
        "  m ,b = gradient_descent(m ,b, data, L)\n",
        "print(m,b)\n",
        "\n",
        "\n",
        "plt.scatter(data.Hours,data.Scores,color='black')\n",
        "plt.plot(list(range(1,10)),[m * x + b for x in range(1,10)],color='red')\n",
        "plt.show()"
      ],
      "metadata": {
        "colab": {
          "base_uri": "https://localhost:8080/",
          "height": 447
        },
        "id": "1Z5HJ_e-lA6C",
        "outputId": "bc53761e-8f78-4fd1-ddd6-0bb41a484140"
      },
      "execution_count": null,
      "outputs": [
        {
          "output_type": "stream",
          "name": "stdout",
          "text": [
            "9.896964110671043 1.6314708810783125\n"
          ]
        },
        {
          "output_type": "display_data",
          "data": {
            "text/plain": [
              "<Figure size 640x480 with 1 Axes>"
            ],
            "image/png": "[encoded data removed]"
          },
          "metadata": {}
        }
      ]
    }
  ]
}